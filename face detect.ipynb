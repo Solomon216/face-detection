{
 "cells": [
  {
   "cell_type": "code",
   "execution_count": 3,
   "metadata": {},
   "outputs": [
    {
     "name": "stdout",
     "output_type": "stream",
     "text": [
      "-----------------------Taking pictures----------------------\n",
      "--------------------Give some expressions---------------------\n"
     ]
    },
    {
     "ename": "error",
     "evalue": "OpenCV(4.7.0) D:\\a\\opencv-python\\opencv-python\\opencv\\modules\\imgproc\\src\\color.cpp:182: error: (-215:Assertion failed) !_src.empty() in function 'cv::cvtColor'\n",
     "output_type": "error",
     "traceback": [
      "\u001b[1;31m---------------------------------------------------------------------------\u001b[0m",
      "\u001b[1;31merror\u001b[0m                                     Traceback (most recent call last)",
      "Cell \u001b[1;32mIn[3], line 17\u001b[0m\n\u001b[0;32m     15\u001b[0m \u001b[39mwhile\u001b[39;00m count \u001b[39m<\u001b[39m \u001b[39m50\u001b[39m:\n\u001b[0;32m     16\u001b[0m     (rval, im) \u001b[39m=\u001b[39m webcam\u001b[39m.\u001b[39mread()\n\u001b[1;32m---> 17\u001b[0m     gray \u001b[39m=\u001b[39m cv2\u001b[39m.\u001b[39;49mcvtColor(im, cv2\u001b[39m.\u001b[39;49mCOLOR_BGR2GRAY)\n\u001b[0;32m     18\u001b[0m     mini \u001b[39m=\u001b[39m cv2\u001b[39m.\u001b[39mresize(gray,(gray\u001b[39m.\u001b[39mshape[\u001b[39m1\u001b[39m]\u001b[39m/\u001b[39m\u001b[39m/\u001b[39msize, gray\u001b[39m.\u001b[39mshape[\u001b[39m0\u001b[39m]\u001b[39m/\u001b[39m\u001b[39m/\u001b[39msize))\n\u001b[0;32m     19\u001b[0m     faces \u001b[39m=\u001b[39m haar_cascade\u001b[39m.\u001b[39mdetectMultiScale(mini)\n",
      "\u001b[1;31merror\u001b[0m: OpenCV(4.7.0) D:\\a\\opencv-python\\opencv-python\\opencv\\modules\\imgproc\\src\\color.cpp:182: error: (-215:Assertion failed) !_src.empty() in function 'cv::cvtColor'\n"
     ]
    }
   ],
   "source": [
    "import cv2, sys, numpy, os, time\n",
    "count = 0\n",
    "size = 4\n",
    "fn_haar = 'haarcascade_frontalface_default.xml'\n",
    "fn_dir = 'D:\\\\facedata'\n",
    "fn_name = input(\"Enter the Person's Name: \")\n",
    "paths = os.path.join(fn_dir, fn_name)\n",
    "if not os.path.isdir(paths):\n",
    "    os.mkdir(paths)\n",
    "(im_width, im_height) = (112, 92)\n",
    "haar_cascade = cv2.CascadeClassifier(cv2.data.haarcascades+fn_haar)\n",
    "webcam = cv2.VideoCapture(0)\n",
    "print(\"-----------------------Taking pictures----------------------\")\n",
    "print(\"--------------------Give some expressions---------------------\")\n",
    "while count < 50:\n",
    "    (rval, im) = webcam.read()\n",
    "    gray = cv2.cvtColor(im, cv2.COLOR_BGR2GRAY)\n",
    "    mini = cv2.resize(gray,(gray.shape[1]//size, gray.shape[0]//size))\n",
    "    faces = haar_cascade.detectMultiScale(mini)\n",
    "    faces = sorted(faces, key=lambda x: x[3])\n",
    "    if faces:\n",
    "        face_i = faces[0]\n",
    "        (x, y, w, h) = [v * size for v in face_i]\n",
    "        face = gray[y:y + h, x:x + w]\n",
    "        face_resize = cv2.resize(face, (im_width, im_height))\n",
    "        pin=sorted([int(n[:n.find('.')]) for n in os.listdir(paths)\n",
    "               if n[0]!='.' ]+[0])[-1] + 1\n",
    "        cv2.imwrite('%s/%s.png' % (paths, pin), face_resize)\n",
    "        cv2.rectangle(im, (x, y), (x + w, y + h), (0, 255, 0), 3)\n",
    "        cv2.putText(im, fn_name, (x - 10, y - 10), cv2.FONT_HERSHEY_PLAIN,\n",
    "            1,(0, 255, 0))\n",
    "        time.sleep(0.38)\n",
    "        count += 1\n",
    "    cv2.imshow('OpenCV', im)\n",
    "    key = cv2.waitKey(10)\n",
    "    if key == 27:\n",
    "        break\n",
    "print(str(count) + \" images taken and saved to \" + fn_name +\" folder in database \")"
   ]
  },
  {
   "cell_type": "code",
   "execution_count": 1,
   "metadata": {},
   "outputs": [
    {
     "name": "stdout",
     "output_type": "stream",
     "text": [
      "Training...\n"
     ]
    },
    {
     "ename": "KeyboardInterrupt",
     "evalue": "",
     "output_type": "error",
     "traceback": [
      "\u001b[1;31m---------------------------------------------------------------------------\u001b[0m",
      "\u001b[1;31mKeyboardInterrupt\u001b[0m                         Traceback (most recent call last)",
      "Cell \u001b[1;32mIn[1], line 49\u001b[0m\n\u001b[0;32m     47\u001b[0m             cv2\u001b[39m.\u001b[39mputText(im, \u001b[39m'\u001b[39m\u001b[39mnot recognized\u001b[39m\u001b[39m'\u001b[39m, (x \u001b[39m-\u001b[39m \u001b[39m10\u001b[39m, y \u001b[39m-\u001b[39m \u001b[39m10\u001b[39m), cv2\u001b[39m.\u001b[39mFONT_HERSHEY_PLAIN, \u001b[39m1\u001b[39m, (\u001b[39m0\u001b[39m, \u001b[39m255\u001b[39m, \u001b[39m0\u001b[39m))\n\u001b[0;32m     48\u001b[0m     cv2\u001b[39m.\u001b[39mimshow(\u001b[39m'\u001b[39m\u001b[39mOpenCV\u001b[39m\u001b[39m'\u001b[39m, im)\n\u001b[1;32m---> 49\u001b[0m     \u001b[39mif\u001b[39;00m cv2\u001b[39m.\u001b[39;49mwaitKey(\u001b[39m1\u001b[39;49m) \u001b[39m&\u001b[39m \u001b[39m0xFF\u001b[39m \u001b[39m==\u001b[39m\u001b[39mord\u001b[39m(\u001b[39m'\u001b[39m\u001b[39mq\u001b[39m\u001b[39m'\u001b[39m):\n\u001b[0;32m     50\u001b[0m         \u001b[39mbreak\u001b[39;00m\n\u001b[0;32m     51\u001b[0m webcam\u001b[39m.\u001b[39mrelease()\n",
      "\u001b[1;31mKeyboardInterrupt\u001b[0m: "
     ]
    },
    {
     "ename": "",
     "evalue": "",
     "output_type": "error",
     "traceback": [
      "\u001b[1;31mThe Kernel crashed while executing code in the the current cell or a previous cell. Please review the code in the cell(s) to identify a possible cause of the failure. Click <a href='https://aka.ms/vscodeJupyterKernelCrash'>here</a> for more info. View Jupyter <a href='command:jupyter.viewOutput'>log</a> for further details."
     ]
    }
   ],
   "source": [
    "import cv2, sys, numpy, os\n",
    "\n",
    "size = 4\n",
    "haar_file = 'haarcascade_frontalface_default.xml'\n",
    "datasets = 'D:\\\\facedata'\n",
    "print('Training...')\n",
    "# Create a list of images and a list of corresponding names\n",
    "(images, lables, names, id) = ([], [], {}, 0)\n",
    "for (subdirs, dirs, files) in os.walk(datasets):\n",
    "    for subdir in dirs:\n",
    "        names[id] = subdir\n",
    "        subjectpath = os.path.join(datasets, subdir)\n",
    "        for filename in os.listdir(subjectpath):\n",
    "            path = subjectpath + '/' + filename\n",
    "            lable = id\n",
    "            images.append(cv2.imread(path, 0))\n",
    "            lables.append(int(lable))\n",
    "        id += 1\n",
    "(width, height) = (130, 100)\n",
    "\n",
    "# Create a Numpy array from the two lists above\n",
    "(images, lables) = [numpy.array(lis) for lis in [images, lables]]\n",
    "\n",
    "# OpenCV trains a model from the images\n",
    "# NOTE FOR OpenCV2: remove '.face'\n",
    "model =cv2.face.LBPHFaceRecognizer_create()\n",
    "model.train(images, lables)\n",
    "\n",
    "face_cascade = cv2.CascadeClassifier(cv2.data.haarcascades+haar_file)\n",
    "webcam = cv2.VideoCapture(0)\n",
    "while True:\n",
    "    (_, im) = webcam.read()\n",
    "    gray = cv2.cvtColor(im, cv2.COLOR_BGR2GRAY)\n",
    "    faces = face_cascade.detectMultiScale(gray, 1.3, 5)\n",
    "    for (x, y, w, h) in faces:\n",
    "        cv2.rectangle(im, (x, y), (x + w, y + h), (255, 0, 0), 2)\n",
    "        face = gray[y:y + h, x:x + w]\n",
    "        face_resize = cv2.resize(face, (width, height))\n",
    "        # Try to recognize the face\n",
    "        prediction = model.predict(face_resize)\n",
    "        cv2.rectangle(im, (x, y), (x + w, y + h), (0, 255, 0), 3)\n",
    "\n",
    "        if prediction[1] < 500:\n",
    "            cv2.putText(im, '%s - %.0f' % (names[prediction[0]], prediction[1]), (x - 10, y - 10),\n",
    "                        cv2.FONT_HERSHEY_PLAIN, 1, (0, 255, 0))\n",
    "        else:\n",
    "            cv2.putText(im, 'not recognized', (x - 10, y - 10), cv2.FONT_HERSHEY_PLAIN, 1, (0, 255, 0))\n",
    "    cv2.imshow('OpenCV', im)\n",
    "    if cv2.waitKey(1) & 0xFF ==ord('q'):\n",
    "        break\n",
    "webcam.release()\n",
    "cv2.destroyAllWindows()"
   ]
  },
  {
   "cell_type": "code",
   "execution_count": 1,
   "metadata": {},
   "outputs": [
    {
     "name": "stdout",
     "output_type": "stream",
     "text": [
      "Requirement already satisfied: opencv-contrib-python in c:\\users\\solomon p\\appdata\\roaming\\python\\python311\\site-packages (4.7.0.72)\n",
      "Requirement already satisfied: numpy>=1.21.2 in c:\\users\\solomon p\\appdata\\roaming\\python\\python311\\site-packages (from opencv-contrib-python) (1.23.5)\n",
      "Note: you may need to restart the kernel to use updated packages.\n"
     ]
    }
   ],
   "source": [
    "pip install opencv-contrib-python --user\n"
   ]
  }
 ],
 "metadata": {
  "kernelspec": {
   "display_name": "Python 3",
   "language": "python",
   "name": "python3"
  },
  "language_info": {
   "codemirror_mode": {
    "name": "ipython",
    "version": 3
   },
   "file_extension": ".py",
   "mimetype": "text/x-python",
   "name": "python",
   "nbconvert_exporter": "python",
   "pygments_lexer": "ipython3",
   "version": "3.11.2"
  },
  "orig_nbformat": 4
 },
 "nbformat": 4,
 "nbformat_minor": 2
}
